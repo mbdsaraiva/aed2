{
  "metadata": {
    "kernelspec": {
      "name": "python",
      "display_name": "Python (Pyodide)",
      "language": "python"
    },
    "language_info": {
      "codemirror_mode": {
        "name": "python",
        "version": 3
      },
      "file_extension": ".py",
      "mimetype": "text/x-python",
      "name": "python",
      "nbconvert_exporter": "python",
      "pygments_lexer": "ipython3",
      "version": "3.8"
    }
  },
  "nbformat_minor": 4,
  "nbformat": 4,
  "cells": [
    {
      "cell_type": "markdown",
      "source": "# Tutorial de Network Science com Exercícios\n\nEste tutorial integra conceitos dos capítulos 2, 3, 6 e 7 do livro *The Atlas for the Aspiring Network Scientist. A abordagem adota a estratégia _knowing, discovering, sharing e experiencing_ e agora inclui uma série de exercícios para consolidar o aprendizado.",
      "metadata": {}
    },
    {
      "cell_type": "markdown",
      "source": "## 1. Knowing – Fundamentos Matemáticos\n\nNos capítulos 2 e 3, são abordados os fundamentos de **Teoria de Probabilidade** e **Estatística**. \n\n**Principais Conceitos:**\n- **Axiomas da Probabilidade:** Não negatividade, normalização e aditividade para eventos mutuamente exclusivos.\n- **Frequentismo vs. Bayesianismo:** Conceitos de probabilidade como frequência relativa versus grau de crença.\n- **Inferência Estatística:** Estimativas, intervalos de confiança e testes de hipóteses.\n\nEsses conceitos são fundamentais para compreender como lidar com a incerteza e validar modelos em network science.",
      "metadata": {}
    },
    {
      "cell_type": "markdown",
      "source": "## 2. Discovering – Estrutura e Complexidade das Redes\n\nOs capítulos 6 e 7 focam na modelagem de redes, apresentando desde os **grafos básicos** até as **extensões** que incorporam atributos, pesos e direcionamentos.\n\n**Capítulo 6 – Basic Graphs:**\n- Definição de nós e arestas.\n- Representações: listas de adjacência e matrizes de adjacência.\n\n**Capítulo 7 – Extended Graphs:**\n- Inclusão de atributos e pesos para representar relações mais ricas.\n- Modelagem de interações dinâmicas e heterogêneas.\n\nA modelagem de redes possibilita traduzir sistemas complexos em estruturas analíticas e computacionais.",
      "metadata": {}
    },
    {
      "cell_type": "markdown",
      "source": "## 3. Sharing – Visualizando e Comunicando Resultados\n\nPara demonstrar os conceitos, utilizaremos Python e a biblioteca **NetworkX** para:\n- Construir grafos.\n- Calcular medidas como grau e centralidades.\n- Visualizar as redes com anotações e rótulos.\n\nEssa etapa reforça como os resultados teóricos podem ser comunicados de maneira visual e interativa.",
      "metadata": {}
    },
    {
      "cell_type": "markdown",
      "source": "## 4. Experiencing – Exercitando na Prática\n\nA seguir, uma série de exercícios para que você possa colocar em prática os conceitos estudados:",
      "metadata": {}
    },
    {
      "cell_type": "code",
      "source": "# Exercício 1: Criação e Visualização de um Grafo Simples\nimport networkx as nx\nimport matplotlib.pyplot as plt\n\n# Criando um grafo simples\nG1 = nx.Graph()\nG1.add_edges_from([(1,2), (1,3), (2,3), (3,4)])\n\nprint('Exercício 1: Grafo Simples')\nprint('Nodos:', list(G1.nodes()))\nprint('Arestas:', list(G1.edges()))\n\n# Visualizando\npos = nx.spring_layout(G1)\nnx.draw(G1, pos, with_labels=True, node_color='lightblue', edge_color='gray', node_size=800)\nplt.title('Grafo Simples')\nplt.show()",
      "metadata": {},
      "outputs": [],
      "execution_count": null
    },
    {
      "cell_type": "code",
      "source": "# Exercício 2: Cálculo de Medidas Básicas\n\n# Grau de cada nó\ngraus = dict(G1.degree())\nprint('Graus dos nós:', graus)\n\n# Centralidade de Proximidade\ncentralidade = nx.closeness_centrality(G1)\nprint('Centralidade de proximidade:', centralidade)",
      "metadata": {},
      "outputs": [],
      "execution_count": null
    },
    {
      "cell_type": "code",
      "source": "# Exercício 3: Adicionando Atributos e Pesos\n\n# Criação de um novo grafo\nG2 = nx.Graph()\nG2.add_edges_from([(1,2), (1,3), (2,3), (3,4), (4,5)])\n\n# Atribuindo pesos (por exemplo, a soma dos identificadores dos nós)\nfor u, v in G2.edges():\n    G2[u][v]['peso'] = u + v\n\n# Exibindo atributos\nedge_labels = nx.get_edge_attributes(G2, 'peso')\nprint('Pesos das arestas:', edge_labels)\n\n# Visualizando o grafo com rótulos de peso\npos = nx.spring_layout(G2)\nnx.draw(G2, pos, with_labels=True, node_color='lightgreen', edge_color='black', node_size=800)\nnx.draw_networkx_edge_labels(G2, pos, edge_labels=edge_labels)\nplt.title('Grafo com Atributos e Pesos')\nplt.show()",
      "metadata": {},
      "outputs": [],
      "execution_count": null
    },
    {
      "cell_type": "code",
      "source": "# Exercício 4: Criação de Grafos Aleatórios\nimport random\n\n# Criando um grafo aleatório com 10 nós e probabilidade de conexão de 0.3\nG3 = nx.erdos_renyi_graph(n=10, p=0.3, seed=42)\n\nprint('Exercício 4: Grafo Aleatório')\nprint('Número de nós:', G3.number_of_nodes())\nprint('Número de arestas:', G3.number_of_edges())\n\npos = nx.spring_layout(G3)\nnx.draw(G3, pos, with_labels=True, node_color='salmon', edge_color='gray', node_size=800)\nplt.title('Grafo Aleatório (Erdős-Rényi)')\nplt.show()",
      "metadata": {},
      "outputs": [],
      "execution_count": null
    },
    {
      "cell_type": "code",
      "source": "# Exercício 5: Análise de Dados Reais (Exemplo Simples)\nimport pandas as pd\n\n# Exemplo: Criação de um grafo a partir de um DataFrame fictício\ndados = {\n    'origem': [1, 2, 3, 4, 5, 2],\n    'destino': [2, 3, 4, 5, 1, 5],\n    'peso': [5, 3, 4, 2, 6, 1]\n}\n\ndf = pd.DataFrame(dados)\nprint('DataFrame de Conexões:')\nprint(df)\n\n# Criação do grafo a partir do DataFrame\nG4 = nx.from_pandas_edgelist(df, source='origem', target='destino', edge_attr='peso')\n\nprint('Exercício 5: Grafo a partir de dados reais')\nprint('Nós:', list(G4.nodes()))\nprint('Arestas:', list(G4.edges(data=True)))\n\npos = nx.spring_layout(G4)\nnx.draw(G4, pos, with_labels=True, node_color='violet', edge_color='black', node_size=800)\nedge_labels = nx.get_edge_attributes(G4, 'peso')\nnx.draw_networkx_edge_labels(G4, pos, edge_labels=edge_labels)\nplt.title('Grafo a partir de DataFrame')\nplt.show()",
      "metadata": {},
      "outputs": [],
      "execution_count": null
    },
    {
      "cell_type": "markdown",
      "source": "## Conclusão\n\nNeste tutorial, combinamos a teoria dos fundamentos matemáticos e estatísticos com a prática de modelagem e análise de redes. Os exercícios interativos permitem explorar desde grafos simples até grafos com atributos e dados reais, reforçando a abordagem _knowing, discovering, sharing e experiencing_.\n\nExperimente modificar os parâmetros dos exercícios e criar novas visualizações para aprofundar seu entendimento sobre network science.",
      "metadata": {}
    }
  ]
}
